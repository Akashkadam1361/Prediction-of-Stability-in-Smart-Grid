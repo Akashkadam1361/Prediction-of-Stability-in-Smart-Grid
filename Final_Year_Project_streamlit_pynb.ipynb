{
  "nbformat": 4,
  "nbformat_minor": 0,
  "metadata": {
    "colab": {
      "provenance": [],
      "authorship_tag": "ABX9TyOPtlXYdLoezMdva9fWYM9S",
      "include_colab_link": true
    },
    "kernelspec": {
      "name": "python3",
      "display_name": "Python 3"
    },
    "language_info": {
      "name": "python"
    }
  },
  "cells": [
    {
      "cell_type": "markdown",
      "metadata": {
        "id": "view-in-github",
        "colab_type": "text"
      },
      "source": [
        "<a href=\"https://colab.research.google.com/github/Akashkadam1361/Prediction-of-Stability-in-Smart-Grid/blob/main/Final_Year_Project_streamlit_pynb.ipynb\" target=\"_parent\"><img src=\"https://colab.research.google.com/assets/colab-badge.svg\" alt=\"Open In Colab\"/></a>"
      ]
    },
    {
      "cell_type": "code",
      "execution_count": 4,
      "metadata": {
        "id": "ZUw3py6KriZs"
      },
      "outputs": [],
      "source": [
        "import numpy as np\n",
        "import matplotlib.pyplot as plt\n",
        "import pandas as pd\n",
        "import seaborn as sns\n",
        "sns.set_theme(style='whitegrid')\n",
        "data =pd.read_csv('smart_grid_stability.csv')\n",
        "abalone_data = data.replace({\"stabf\": {\"unstable\":0,\"stable\":1,}})\n",
        "stab_features = abalone_data.drop(['stab','stabf'],axis=1)\n",
        "stab_labels =abalone_data['stabf'].copy()\n",
        "from sklearn.preprocessing import MinMaxScaler\n",
        "X = stab_features\n",
        "mm = MinMaxScaler()\n",
        "X_normalized = mm.fit_transform(X)\n",
        "from sklearn.preprocessing import add_dummy_feature\n",
        "x_new = add_dummy_feature(X_normalized)\n",
        "from sklearn.model_selection import train_test_split\n",
        "X_train, X_test, y_train, y_test = train_test_split(x_new, stab_labels, test_size = 0.2)\n",
        "from sklearn.ensemble import RandomForestClassifier\n",
        "rfn= RandomForestClassifier(n_estimators=70, oob_score=True, n_jobs=-1, random_state=101, max_features=None, min_samples_leaf = 30)\n",
        "classifier= rfn.fit(X_train,y_train) \n",
        "y_pred = rfn.predict(X_test)\n"
      ]
    }
  ]
}